{
 "cells": [
  {
   "cell_type": "code",
   "execution_count": 1,
   "metadata": {},
   "outputs": [],
   "source": [
    "import pandas as pd"
   ]
  },
  {
   "cell_type": "code",
   "execution_count": 2,
   "metadata": {},
   "outputs": [
    {
     "name": "stdout",
     "output_type": "stream",
     "text": [
      "CPU times: user 30.8 s, sys: 170 ms, total: 31 s\n",
      "Wall time: 31.1 s\n"
     ]
    }
   ],
   "source": [
    "# Importamos nuestra base de datos\n",
    "data = %time pd.read_excel(\"CIB-1922.xlsx\", parse_dates=[1])\n",
    "\n",
    "# Cambiamos los nombres de las columnas\n",
    "data.columns = [\"Datetime\", \"Sistema\", \"Nemo\", \"Descripcion\", \"Tasa_ref\", \"P_limpio\", \"P_sucio\",\n",
    "                \"Tasa\", \"CantidadCOP\", \"VolumenCOP\", \"Moneda\", \"Rueda\"]\n",
    "\n",
    "data = data.drop_duplicates(subset=\"Datetime\", keep=\"first\")"
   ]
  },
  {
   "cell_type": "code",
   "execution_count": 3,
   "metadata": {},
   "outputs": [
    {
     "data": {
      "text/plain": [
       "(263981, 12)"
      ]
     },
     "execution_count": 3,
     "metadata": {},
     "output_type": "execute_result"
    }
   ],
   "source": [
    "# Vemos cuantas transacciones hay en nuestra base de datos\n",
    "data.shape"
   ]
  },
  {
   "cell_type": "code",
   "execution_count": 4,
   "metadata": {},
   "outputs": [],
   "source": [
    "def process_data(dat):\n",
    "    \"\"\"\n",
    "    -----------------------------------------------------\n",
    "    Funcion que filtra los datos: Bonos tasa fija en COP.\n",
    "    Fija el timestamp como indice\n",
    "    -----------------------------------------------------\n",
    "    \n",
    "    Parametros: dat - Pandas DataFrame\n",
    "        Datos con las transacciones intradia de los bonos\n",
    "    \n",
    "    Return: dat - Pandas DataFrame\n",
    "        Datos filtrados\n",
    "    \"\"\"\n",
    "    \n",
    "    # Nos interesan las transacciones del mercado secundario, en COP, tasa fija\n",
    "    cond = (dat[\"Sistema\"] == \"Transaccional\") & (dat[\"Moneda\"] == \"COP\") & (dat[\"Nemo\"].str.contains(\"TFIT\"))\n",
    "    dat  = dat.loc[cond].copy()\n",
    "    \n",
    "    # Inicializamos la columna Dia\n",
    "    dat['Dia'] = pd.to_datetime(dat['Datetime'], format='%Y:%M:%D').dt.date\n",
    "    \n",
    "    # Indexamos los datos a partir de la columna Datetime\n",
    "    dat.set_index(\"Datetime\", inplace=True)\n",
    "    dat = dat.between_time('9:30','15:40')\n",
    "    \n",
    "    return dat"
   ]
  },
  {
   "cell_type": "code",
   "execution_count": 5,
   "metadata": {},
   "outputs": [],
   "source": [
    "# Aplicamos el procesamiento\n",
    "data = process_data(data)"
   ]
  },
  {
   "cell_type": "code",
   "execution_count": 6,
   "metadata": {},
   "outputs": [
    {
     "data": {
      "text/plain": [
       "(121992, 12)"
      ]
     },
     "execution_count": 6,
     "metadata": {},
     "output_type": "execute_result"
    }
   ],
   "source": [
    "# Vemos cuantas transacciones nos quedan en la base de datos\n",
    "data.shape"
   ]
  },
  {
   "cell_type": "code",
   "execution_count": 7,
   "metadata": {},
   "outputs": [
    {
     "data": {
      "text/html": [
       "<div>\n",
       "<style scoped>\n",
       "    .dataframe tbody tr th:only-of-type {\n",
       "        vertical-align: middle;\n",
       "    }\n",
       "\n",
       "    .dataframe tbody tr th {\n",
       "        vertical-align: top;\n",
       "    }\n",
       "\n",
       "    .dataframe thead th {\n",
       "        text-align: right;\n",
       "    }\n",
       "</style>\n",
       "<table border=\"1\" class=\"dataframe\">\n",
       "  <thead>\n",
       "    <tr style=\"text-align: right;\">\n",
       "      <th></th>\n",
       "      <th>Sistema</th>\n",
       "      <th>Nemo</th>\n",
       "      <th>Descripcion</th>\n",
       "      <th>Tasa_ref</th>\n",
       "      <th>P_limpio</th>\n",
       "      <th>P_sucio</th>\n",
       "      <th>Tasa</th>\n",
       "      <th>CantidadCOP</th>\n",
       "      <th>VolumenCOP</th>\n",
       "      <th>Moneda</th>\n",
       "      <th>Rueda</th>\n",
       "      <th>Dia</th>\n",
       "    </tr>\n",
       "    <tr>\n",
       "      <th>Datetime</th>\n",
       "      <th></th>\n",
       "      <th></th>\n",
       "      <th></th>\n",
       "      <th></th>\n",
       "      <th></th>\n",
       "      <th></th>\n",
       "      <th></th>\n",
       "      <th></th>\n",
       "      <th></th>\n",
       "      <th></th>\n",
       "      <th></th>\n",
       "      <th></th>\n",
       "    </tr>\n",
       "  </thead>\n",
       "  <tbody>\n",
       "    <tr>\n",
       "      <th>2017-01-02 09:42:39</th>\n",
       "      <td>Transaccional</td>\n",
       "      <td>TFIT06211118</td>\n",
       "      <td>TITULOS TES</td>\n",
       "      <td>FS</td>\n",
       "      <td>97.952</td>\n",
       "      <td>98.527</td>\n",
       "      <td>6.175</td>\n",
       "      <td>5000000000</td>\n",
       "      <td>4.926365e+09</td>\n",
       "      <td>COP</td>\n",
       "      <td>SPOT</td>\n",
       "      <td>2017-01-02</td>\n",
       "    </tr>\n",
       "    <tr>\n",
       "      <th>2017-01-02 09:42:44</th>\n",
       "      <td>Transaccional</td>\n",
       "      <td>TFIT06211118</td>\n",
       "      <td>TITULOS TES</td>\n",
       "      <td>FS</td>\n",
       "      <td>97.948</td>\n",
       "      <td>98.523</td>\n",
       "      <td>6.177</td>\n",
       "      <td>5000000000</td>\n",
       "      <td>4.926165e+09</td>\n",
       "      <td>COP</td>\n",
       "      <td>SPOT</td>\n",
       "      <td>2017-01-02</td>\n",
       "    </tr>\n",
       "    <tr>\n",
       "      <th>2017-01-02 09:44:55</th>\n",
       "      <td>Transaccional</td>\n",
       "      <td>TFIT06211118</td>\n",
       "      <td>TITULOS TES</td>\n",
       "      <td>FS</td>\n",
       "      <td>97.948</td>\n",
       "      <td>98.523</td>\n",
       "      <td>6.177</td>\n",
       "      <td>4000000000</td>\n",
       "      <td>3.940932e+09</td>\n",
       "      <td>COP</td>\n",
       "      <td>SPOT</td>\n",
       "      <td>2017-01-02</td>\n",
       "    </tr>\n",
       "    <tr>\n",
       "      <th>2017-01-02 09:44:59</th>\n",
       "      <td>Transaccional</td>\n",
       "      <td>TFIT06211118</td>\n",
       "      <td>TITULOS TES</td>\n",
       "      <td>FS</td>\n",
       "      <td>97.948</td>\n",
       "      <td>98.523</td>\n",
       "      <td>6.177</td>\n",
       "      <td>4000000000</td>\n",
       "      <td>3.940932e+09</td>\n",
       "      <td>COP</td>\n",
       "      <td>SPOT</td>\n",
       "      <td>2017-01-02</td>\n",
       "    </tr>\n",
       "    <tr>\n",
       "      <th>2017-01-02 09:52:23</th>\n",
       "      <td>Transaccional</td>\n",
       "      <td>TFIT06211118</td>\n",
       "      <td>TITULOS TES</td>\n",
       "      <td>FS</td>\n",
       "      <td>97.950</td>\n",
       "      <td>98.525</td>\n",
       "      <td>6.176</td>\n",
       "      <td>4000000000</td>\n",
       "      <td>3.941012e+09</td>\n",
       "      <td>COP</td>\n",
       "      <td>SPOT</td>\n",
       "      <td>2017-01-02</td>\n",
       "    </tr>\n",
       "  </tbody>\n",
       "</table>\n",
       "</div>"
      ],
      "text/plain": [
       "                           Sistema          Nemo  \\\n",
       "Datetime                                           \n",
       "2017-01-02 09:42:39  Transaccional  TFIT06211118   \n",
       "2017-01-02 09:42:44  Transaccional  TFIT06211118   \n",
       "2017-01-02 09:44:55  Transaccional  TFIT06211118   \n",
       "2017-01-02 09:44:59  Transaccional  TFIT06211118   \n",
       "2017-01-02 09:52:23  Transaccional  TFIT06211118   \n",
       "\n",
       "                                        Descripcion Tasa_ref  P_limpio  \\\n",
       "Datetime                                                                 \n",
       "2017-01-02 09:42:39  TITULOS TES                          FS    97.952   \n",
       "2017-01-02 09:42:44  TITULOS TES                          FS    97.948   \n",
       "2017-01-02 09:44:55  TITULOS TES                          FS    97.948   \n",
       "2017-01-02 09:44:59  TITULOS TES                          FS    97.948   \n",
       "2017-01-02 09:52:23  TITULOS TES                          FS    97.950   \n",
       "\n",
       "                     P_sucio   Tasa  CantidadCOP    VolumenCOP Moneda Rueda  \\\n",
       "Datetime                                                                      \n",
       "2017-01-02 09:42:39   98.527  6.175   5000000000  4.926365e+09    COP  SPOT   \n",
       "2017-01-02 09:42:44   98.523  6.177   5000000000  4.926165e+09    COP  SPOT   \n",
       "2017-01-02 09:44:55   98.523  6.177   4000000000  3.940932e+09    COP  SPOT   \n",
       "2017-01-02 09:44:59   98.523  6.177   4000000000  3.940932e+09    COP  SPOT   \n",
       "2017-01-02 09:52:23   98.525  6.176   4000000000  3.941012e+09    COP  SPOT   \n",
       "\n",
       "                            Dia  \n",
       "Datetime                         \n",
       "2017-01-02 09:42:39  2017-01-02  \n",
       "2017-01-02 09:42:44  2017-01-02  \n",
       "2017-01-02 09:44:55  2017-01-02  \n",
       "2017-01-02 09:44:59  2017-01-02  \n",
       "2017-01-02 09:52:23  2017-01-02  "
      ]
     },
     "execution_count": 7,
     "metadata": {},
     "output_type": "execute_result"
    }
   ],
   "source": [
    "data.head()"
   ]
  },
  {
   "cell_type": "code",
   "execution_count": 8,
   "metadata": {},
   "outputs": [],
   "source": [
    "data[[\"Dia\", \"Nemo\", \"P_limpio\", \"P_sucio\", \n",
    "      \"Tasa\", \"CantidadCOP\", \"VolumenCOP\"]].to_csv(\"prep_data.csv\")"
   ]
  },
  {
   "cell_type": "code",
   "execution_count": null,
   "metadata": {},
   "outputs": [],
   "source": []
  }
 ],
 "metadata": {
  "kernelspec": {
   "display_name": "Python 3",
   "language": "python",
   "name": "python3"
  },
  "language_info": {
   "codemirror_mode": {
    "name": "ipython",
    "version": 3
   },
   "file_extension": ".py",
   "mimetype": "text/x-python",
   "name": "python",
   "nbconvert_exporter": "python",
   "pygments_lexer": "ipython3",
   "version": "3.6.8"
  }
 },
 "nbformat": 4,
 "nbformat_minor": 2
}
